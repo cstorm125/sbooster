{
 "cells": [
  {
   "cell_type": "markdown",
   "metadata": {},
   "source": [
    "# Traffic Light Control Simulation"
   ]
  },
  {
   "cell_type": "markdown",
   "metadata": {
    "collapsed": true
   },
   "source": [
    "We are simulating traffic flow of a simplified Silom-Sathorn intersection network for 1 hour. The performance metric is average velocity of all cars in the scenario averaged across all timesteps (1 second per timestep). We demonstrated that by using an **actuated control logic** (switches the lights when a significant gap is presented among vehicles) as opposed to static control logic (switches the lights every fixed interval regardless of traffic conditions). We can see that using actuated control can **increase average velocity of all vehicles across all timesteps by 34%.**"
   ]
  },
  {
   "cell_type": "code",
   "execution_count": 20,
   "metadata": {},
   "outputs": [],
   "source": [
    "from flow.scenarios.grid import SimpleGridScenario\n",
    "from flow.core.params import NetParams, TrafficLightParams, SumoParams, EnvParams, InitialConfig, NetParams, SumoCarFollowingParams\n",
    "from flow.core.params import VehicleParams\n",
    "from flow.controllers.car_following_models import IDMController\n",
    "from flow.controllers.routing_controllers import ContinuousRouter\n",
    "import numpy as np\n",
    "import pandas as pd\n",
    "from plotnine import *\n",
    "import pickle\n",
    "import warnings\n",
    "warnings.filterwarnings('ignore')"
   ]
  },
  {
   "cell_type": "code",
   "execution_count": 24,
   "metadata": {},
   "outputs": [
    {
     "data": {
      "text/html": [
       "<div>\n",
       "<style scoped>\n",
       "    .dataframe tbody tr th:only-of-type {\n",
       "        vertical-align: middle;\n",
       "    }\n",
       "\n",
       "    .dataframe tbody tr th {\n",
       "        vertical-align: top;\n",
       "    }\n",
       "\n",
       "    .dataframe thead th {\n",
       "        text-align: right;\n",
       "    }\n",
       "</style>\n",
       "<table border=\"1\" class=\"dataframe\">\n",
       "  <thead>\n",
       "    <tr style=\"text-align: right;\">\n",
       "      <th></th>\n",
       "      <th>seconds</th>\n",
       "      <th>static</th>\n",
       "      <th>actuated</th>\n",
       "    </tr>\n",
       "  </thead>\n",
       "  <tbody>\n",
       "    <tr>\n",
       "      <th>count</th>\n",
       "      <td>3600.000000</td>\n",
       "      <td>3600.000000</td>\n",
       "      <td>3600.000000</td>\n",
       "    </tr>\n",
       "    <tr>\n",
       "      <th>mean</th>\n",
       "      <td>1799.500000</td>\n",
       "      <td>5.573036</td>\n",
       "      <td>8.446148</td>\n",
       "    </tr>\n",
       "    <tr>\n",
       "      <th>std</th>\n",
       "      <td>1039.374812</td>\n",
       "      <td>0.762568</td>\n",
       "      <td>2.480226</td>\n",
       "    </tr>\n",
       "    <tr>\n",
       "      <th>min</th>\n",
       "      <td>0.000000</td>\n",
       "      <td>1.388174</td>\n",
       "      <td>1.388174</td>\n",
       "    </tr>\n",
       "    <tr>\n",
       "      <th>25%</th>\n",
       "      <td>899.750000</td>\n",
       "      <td>5.183605</td>\n",
       "      <td>6.285216</td>\n",
       "    </tr>\n",
       "    <tr>\n",
       "      <th>50%</th>\n",
       "      <td>1799.500000</td>\n",
       "      <td>5.388490</td>\n",
       "      <td>9.246599</td>\n",
       "    </tr>\n",
       "    <tr>\n",
       "      <th>75%</th>\n",
       "      <td>2699.250000</td>\n",
       "      <td>5.758721</td>\n",
       "      <td>10.401787</td>\n",
       "    </tr>\n",
       "    <tr>\n",
       "      <th>max</th>\n",
       "      <td>3599.000000</td>\n",
       "      <td>12.007670</td>\n",
       "      <td>12.030301</td>\n",
       "    </tr>\n",
       "  </tbody>\n",
       "</table>\n",
       "</div>"
      ],
      "text/plain": [
       "           seconds       static     actuated\n",
       "count  3600.000000  3600.000000  3600.000000\n",
       "mean   1799.500000     5.573036     8.446148\n",
       "std    1039.374812     0.762568     2.480226\n",
       "min       0.000000     1.388174     1.388174\n",
       "25%     899.750000     5.183605     6.285216\n",
       "50%    1799.500000     5.388490     9.246599\n",
       "75%    2699.250000     5.758721    10.401787\n",
       "max    3599.000000    12.007670    12.030301"
      ]
     },
     "execution_count": 24,
     "metadata": {},
     "output_type": "execute_result"
    }
   ],
   "source": [
    "static = pickle.load(open('data/static.pkl','rb'))['velocities'][0]\n",
    "actuated  = pickle.load(open('data/actuated.pkl','rb'))['velocities'][0]\n",
    "df = pd.DataFrame({'seconds':range(3600),'static':static,'actuated':actuated})[['seconds','static','actuated']]\n",
    "df.describe()"
   ]
  },
  {
   "cell_type": "code",
   "execution_count": 35,
   "metadata": {},
   "outputs": [
    {
     "data": {
      "image/png": "[encoded data removed]",
      "text/plain": [
       "<Figure size 640x480 with 1 Axes>"
      ]
     },
     "metadata": {
      "needs_background": "light"
     },
     "output_type": "display_data"
    },
    {
     "data": {
      "text/plain": [
       "<ggplot: (-9223363276854493766)>"
      ]
     },
     "execution_count": 35,
     "metadata": {},
     "output_type": "execute_result"
    }
   ],
   "source": [
    "df_m = df.melt(id_vars='seconds')\n",
    "g = (ggplot(df_m,aes(x='variable',y='value')) + geom_boxplot() + theme_minimal() +\n",
    "     geom_smooth() + ylab('km/h') + xlab('Control Logic')\n",
    "    )\n",
    "g"
   ]
  },
  {
   "cell_type": "markdown",
   "metadata": {},
   "source": [
    "## Grid Setup"
   ]
  },
  {
   "cell_type": "markdown",
   "metadata": {},
   "source": [
    "From the intersection network below, we formulated a 2-by-3 simple traffic grid with cars coming in from all directions.\n",
    "\n",
    "![Silom-Sathorn Intersection Network](img/silom.PNG)"
   ]
  },
  {
   "cell_type": "code",
   "execution_count": 2,
   "metadata": {},
   "outputs": [],
   "source": [
    "#set up grid\n",
    "inner_length = 300\n",
    "long_length = 500\n",
    "short_length = 300\n",
    "n = 2 # rows\n",
    "m = 3 # columns\n",
    "num_cars_left = 20\n",
    "num_cars_right = 20\n",
    "num_cars_top = 20\n",
    "num_cars_bot = 20\n",
    "enter_v = 30\n",
    "horizon=60 * 60\n",
    "tot_cars = (num_cars_left + num_cars_right) * m + (num_cars_top + num_cars_bot) * n\n",
    "\n",
    "grid_array = {\"short_length\": short_length, \"inner_length\": inner_length,\n",
    "              \"long_length\": long_length, \"row_num\": n, \"col_num\": m,\n",
    "              \"cars_left\": num_cars_left, \"cars_right\": num_cars_right,\n",
    "              \"cars_top\": num_cars_top, \"cars_bot\": num_cars_bot}\n",
    "\n",
    "#initial parameter\n",
    "additional_init_params = {'enter_speed': enter_v}\n",
    "initial_params = InitialConfig(\n",
    "    spacing='custom', additional_params=additional_init_params)"
   ]
  },
  {
   "cell_type": "markdown",
   "metadata": {},
   "source": [
    "## Traffic Light Control Logic"
   ]
  },
  {
   "cell_type": "markdown",
   "metadata": {},
   "source": [
    "There are two types traffic light control logic provided by the [SUMO simulation](https://sourceforge.net/projects/sumo/) in [Flow](http://localhost:8888/notebooks/flow/tutorials/tutorial11_traffic_lights.ipynb) that we use:\n",
    "1. Static Control: *static traffic lights are traffic lights with pre-defined phases. They cannot dynamically adjust according to traffic needs; they simply follow the same pattern repeatedly.*\n",
    "2. Actuated Control: *This control scheme is common in Germany and works by prolonging traffic phases whenever a continuous stream of traffic is detected. It switches to the next phase after detecting a sufficent time gap between sucessive vehicles. This allows for better distribution of green-time among phases and also affects cycle duration in response to dynamic traffic conditions*"
   ]
  },
  {
   "cell_type": "code",
   "execution_count": 3,
   "metadata": {},
   "outputs": [],
   "source": [
    "#traffic lights\n",
    "tl_logic = TrafficLightParams()\n",
    "nodes = [\"center0\", \"center1\", \"center2\", \"center3\", \"center4\", \"center5\"]\n",
    "# #static\n",
    "# phases = [{\"duration\": \"31\", \"state\": \"GrGr\"},\n",
    "#           {\"duration\": \"6\", \"state\": \"yryr\"},\n",
    "#           {\"duration\": \"31\", \"state\": \"rGrG\"},\n",
    "#           {\"duration\": \"6\", \"state\": \"ryry\"}]\n",
    "# for node_id in nodes:\n",
    "#     tl_logic.add(node_id, tls_type=\"static\", programID=\"1\", offset=None, phases=phases)\n",
    "\n",
    "#actuated\n",
    "phases = [{\"duration\": \"31\", \"minDur\": \"8\", \"maxDur\": \"45\", \"state\": \"GrGr\"},\n",
    "          {\"duration\": \"6\", \"minDur\": \"3\", \"maxDur\": \"6\", \"state\": \"yryr\"},\n",
    "          {\"duration\": \"31\", \"minDur\": \"8\", \"maxDur\": \"45\", \"state\": \"rGrG\"},\n",
    "          {\"duration\": \"6\", \"minDur\": \"3\", \"maxDur\": \"6\", \"state\": \"ryry\"}]\n",
    "for node_id in nodes:\n",
    "    tl_logic.add(node_id,              \n",
    "            tls_type=\"actuated\", \n",
    "             programID=\"1\", \n",
    "             phases=phases, \n",
    "             maxGap=5.0, \n",
    "             detectorGap=0.9, \n",
    "             showDetectors=False)"
   ]
  },
  {
   "cell_type": "code",
   "execution_count": 4,
   "metadata": {},
   "outputs": [],
   "source": [
    "#network parameters\n",
    "additional_net_params = {\"grid_array\": grid_array, \"speed_limit\": 100,\n",
    "                         \"horizontal_lanes\": 1, \"vertical_lanes\": 1,\n",
    "                         \"traffic_lights\": True, \"tl_logic\": tl_logic}\n",
    "net_params = NetParams(no_internal_links=False,\n",
    "                       additional_params=additional_net_params)"
   ]
  },
  {
   "cell_type": "markdown",
   "metadata": {},
   "source": [
    "## Other Setups"
   ]
  },
  {
   "cell_type": "markdown",
   "metadata": {},
   "source": [
    "We also need to setup the routing for vehicles in the simulation, as well as simulation and environment parameters."
   ]
  },
  {
   "cell_type": "code",
   "execution_count": 5,
   "metadata": {},
   "outputs": [],
   "source": [
    "#vehicles\n",
    "from flow.controllers import SimCarFollowingController, GridRouter\n",
    "vehicles = VehicleParams()\n",
    "vehicles.add(\n",
    "    veh_id='idm',\n",
    "    acceleration_controller=(SimCarFollowingController, {}),\n",
    "    car_following_params=SumoCarFollowingParams(\n",
    "        min_gap=2.5,\n",
    "        decel=7.5,  # avoid collisions at emergency stops\n",
    "        max_speed=enter_v,\n",
    "        speed_mode=\"all_checks\",\n",
    "    ),\n",
    "    routing_controller=(GridRouter, {}),\n",
    "    num_vehicles=tot_cars)"
   ]
  },
  {
   "cell_type": "code",
   "execution_count": 6,
   "metadata": {},
   "outputs": [],
   "source": [
    "#sumo simulation parameter\n",
    "from flow.core.params import SumoParams\n",
    "sumo_params = SumoParams(sim_step=1, render=True, emission_path='data') #1 sec for step"
   ]
  },
  {
   "cell_type": "code",
   "execution_count": 7,
   "metadata": {},
   "outputs": [],
   "source": [
    "#environment parameter\n",
    "from flow.core.params import EnvParams\n",
    "additional_env_params = {\n",
    "        'target_velocity': 50,\n",
    "        'switch_time': 3.0,\n",
    "        'num_observed': 2,\n",
    "        'discrete': False,\n",
    "        'tl_type': 'actuated'} #actuated or controlled (rl)\n",
    "env_params = EnvParams(horizon=horizon, additional_params=additional_env_params)"
   ]
  },
  {
   "cell_type": "markdown",
   "metadata": {},
   "source": [
    "## Experiment"
   ]
  },
  {
   "cell_type": "markdown",
   "metadata": {},
   "source": [
    "We run the experiment based on the abovementioned scenario for 1 hour and calculate the average velocity of all vehicles across all timesteps as our performance metric.\n",
    "\n",
    "![](img/sbooster_intersection.png)\n",
    "![](img/sbooster_network.png)"
   ]
  },
  {
   "cell_type": "code",
   "execution_count": 8,
   "metadata": {},
   "outputs": [
    {
     "name": "stdout",
     "output_type": "stream",
     "text": [
      "Round 0, return: -3399.3707144278283\n",
      "Average, std return: -3399.3707144278283, 0.0\n",
      "Average, std speed: 5.573035654033489, 0.0\n"
     ]
    }
   ],
   "source": [
    "#run experiment\n",
    "from flow.envs.green_wave_env import TrafficLightGridEnv\n",
    "from flow.core.experiment import Experiment\n",
    "\n",
    "#scenario\n",
    "scenario = SimpleGridScenario(name=\"grid\",\n",
    "                              vehicles=vehicles,\n",
    "                              net_params=net_params,\n",
    "                              initial_config=initial_params,\n",
    "                              traffic_lights=tl_logic)\n",
    "env = TrafficLightGridEnv(env_params, sumo_params, scenario)\n",
    "\n",
    "# create the experiment object\n",
    "exp = Experiment(env)\n",
    "\n",
    "# run the experiment for a set number of rollouts / time steps\n",
    "result = exp.run(1, horizon, rl_actions=lambda state: 0)"
   ]
  },
  {
   "cell_type": "code",
   "execution_count": 9,
   "metadata": {},
   "outputs": [
    {
     "data": {
      "text/plain": [
       "5.573035654033489"
      ]
     },
     "execution_count": 9,
     "metadata": {},
     "output_type": "execute_result"
    }
   ],
   "source": [
    "result['velocities'][0].mean()"
   ]
  },
  {
   "cell_type": "code",
   "execution_count": 11,
   "metadata": {},
   "outputs": [],
   "source": [
    "# import pickle\n",
    "# with open('data/actuated.pkl', 'wb') as handle:\n",
    "#     pickle.dump(result, handle, protocol=pickle.HIGHEST_PROTOCOL)"
   ]
  },
  {
   "cell_type": "code",
   "execution_count": null,
   "metadata": {},
   "outputs": [],
   "source": []
  }
 ],
 "metadata": {
  "kernelspec": {
   "display_name": "Python [default]",
   "language": "python",
   "name": "python3"
  },
  "language_info": {
   "codemirror_mode": {
    "name": "ipython",
    "version": 3
   },
   "file_extension": ".py",
   "mimetype": "text/x-python",
   "name": "python",
   "nbconvert_exporter": "python",
   "pygments_lexer": "ipython3",
   "version": "3.5.2"
  },
  "widgets": {
   "state": {},
   "version": "1.1.2"
  }
 },
 "nbformat": 4,
 "nbformat_minor": 1
}
